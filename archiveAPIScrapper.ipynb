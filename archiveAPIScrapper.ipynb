{
 "cells": [
  {
   "cell_type": "markdown",
   "metadata": {},
   "source": [
    "# Web API base webpage snapshots scrapper\n",
    "\n",
    "This program allows you to scrap the Timestamp and url via archive.org API of the nearest date to the 1st of each month since the startdate.\n",
    "It outputs a csv file that contains the Timestamp the url of a specific website.\n",
    "\n",
    "For 'time', enter the startdate that you want for the webpage snapshots scrapper.\n",
    "For 'website', enter the url of the website.\n",
    "\n",
    "For the sample output, see pillpackurl_out.csv."
   ]
  },
  {
   "cell_type": "code",
   "execution_count": 1,
   "metadata": {},
   "outputs": [
    {
     "name": "stdout",
     "output_type": "stream",
     "text": [
      "20160101 started\n",
      "{'archived_snapshots': {'closest': {'available': True, 'timestamp': '20151230152834', 'status': '200', 'url': 'http://web.archive.org/web/20151230152834/https://www.pillpack.com/'}}, 'timestamp': '20160101', 'url': 'www.pillpack.com/'}\n",
      "20160201 started\n",
      "{'archived_snapshots': {'closest': {'available': True, 'timestamp': '20160130000639', 'status': '200', 'url': 'http://web.archive.org/web/20160130000639/https://www.pillpack.com/'}}, 'timestamp': '20160201', 'url': 'www.pillpack.com/'}\n",
      "20160301 started\n",
      "{'archived_snapshots': {'closest': {'available': True, 'timestamp': '20160301033409', 'status': '200', 'url': 'http://web.archive.org/web/20160301033409/https://www.pillpack.com/'}}, 'timestamp': '20160301', 'url': 'www.pillpack.com/'}\n",
      "20160401 started\n",
      "{'archived_snapshots': {'closest': {'available': True, 'timestamp': '20160320185003', 'status': '200', 'url': 'http://web.archive.org/web/20160320185003/https://www.pillpack.com/'}}, 'timestamp': '20160401', 'url': 'www.pillpack.com/'}\n",
      "20160501 started\n",
      "{'archived_snapshots': {'closest': {'timestamp': '20160513020746', 'available': True, 'url': 'http://web.archive.org/web/20160513020746/https://www.pillpack.com/', 'status': '200'}}, 'timestamp': '20160501', 'url': 'www.pillpack.com/'}\n",
      "20160601 started\n",
      "{'timestamp': '20160601', 'archived_snapshots': {'closest': {'available': True, 'timestamp': '20160603013900', 'status': '200', 'url': 'http://web.archive.org/web/20160603013900/https://www.pillpack.com/'}}, 'url': 'www.pillpack.com/'}\n",
      "20160701 started\n",
      "{'archived_snapshots': {'closest': {'available': True, 'timestamp': '20160618012248', 'status': '200', 'url': 'http://web.archive.org/web/20160618012248/https://www.pillpack.com/'}}, 'timestamp': '20160701', 'url': 'www.pillpack.com/'}\n",
      "20160801 started\n",
      "{'archived_snapshots': {'closest': {'timestamp': '20160618012248', 'available': True, 'url': 'http://web.archive.org/web/20160618012248/https://www.pillpack.com/', 'status': '200'}}, 'timestamp': '20160801', 'url': 'www.pillpack.com/'}\n",
      "20160901 started\n",
      "{'timestamp': '20160901', 'archived_snapshots': {'closest': {'available': True, 'timestamp': '20161030150241', 'status': '200', 'url': 'http://web.archive.org/web/20161030150241/https://www.pillpack.com/'}}, 'url': 'www.pillpack.com/'}\n",
      "20161001 started\n",
      "{'archived_snapshots': {'closest': {'timestamp': '20161030150241', 'available': True, 'url': 'http://web.archive.org/web/20161030150241/https://www.pillpack.com/', 'status': '200'}}, 'timestamp': '20161001', 'url': 'www.pillpack.com/'}\n",
      "20161101 started\n",
      "{'archived_snapshots': {'closest': {'timestamp': '20161030150241', 'available': True, 'url': 'http://web.archive.org/web/20161030150241/https://www.pillpack.com/', 'status': '200'}}, 'timestamp': '20161101', 'url': 'www.pillpack.com/'}\n",
      "20161201 started\n",
      "{'archived_snapshots': {'closest': {'timestamp': '20161203125305', 'available': True, 'url': 'http://web.archive.org/web/20161203125305/https://www.pillpack.com/', 'status': '200'}}, 'timestamp': '20161201', 'url': 'www.pillpack.com/'}\n",
      "Finished\n"
     ]
    }
   ],
   "source": [
    "import requests\n",
    "import datetime as dt\n",
    "from dateutil.relativedelta import relativedelta\n",
    "import csv\n",
    "import json\n",
    "import re\n",
    "\n",
    "time = dt.date(2016, 1, 1)\n",
    "outFile = 'pillpackurl_out.csv'\n",
    "dict_list = []\n",
    "website = 'www.pillpack.com'\n",
    "\n",
    "while True:\n",
    "    t= time.strftime(\"%Y%m%d\")\n",
    "    print(t + ' started')\n",
    "    purl='http://archive.org/wayback/available?url='+ website +'/&timestamp='+ t\n",
    "\n",
    "    content=requests.get(purl).content\n",
    "    contentstr=str(content, encoding='utf-8')\n",
    "\n",
    "    infodict = json.loads(contentstr)\n",
    "\n",
    "    print(infodict)\n",
    "\n",
    "    url=infodict[\"archived_snapshots\"][\"closest\"][\"url\"]\n",
    "    timestamp=infodict[\"archived_snapshots\"][\"closest\"][\"timestamp\"]\n",
    "\n",
    "    tstmp = timestamp[:8]\n",
    "\n",
    "#    print(tstmp)\n",
    "    \n",
    "    new_dict={'Timestamp':tstmp, 'url':url}\n",
    "    dict_list.append(new_dict)\n",
    "    \n",
    "    fnames = ['Timestamp', 'url']\n",
    "    \n",
    "    with open(outFile, 'w', encoding='utf-8') as f:\n",
    "        writer = csv.DictWriter(f, fieldnames=fnames)\n",
    "        writer.writeheader()\n",
    "        \n",
    "        for new_dict in dict_list:\n",
    "            writer.writerow(new_dict)\n",
    "            \n",
    "    time = time + relativedelta(months=1)\n",
    "    strtime = str(time)\n",
    "    \n",
    "#    print(strtime)\n",
    "    \n",
    "    if strtime =='2017-01-01':\n",
    "        break\n",
    "\n",
    "print('Finished')"
   ]
  }
 ],
 "metadata": {
  "kernelspec": {
   "display_name": "Python 3",
   "language": "python",
   "name": "python3"
  },
  "language_info": {
   "codemirror_mode": {
    "name": "ipython",
    "version": 3
   },
   "file_extension": ".py",
   "mimetype": "text/x-python",
   "name": "python",
   "nbconvert_exporter": "python",
   "pygments_lexer": "ipython3",
   "version": "3.7.4"
  }
 },
 "nbformat": 4,
 "nbformat_minor": 2
}
